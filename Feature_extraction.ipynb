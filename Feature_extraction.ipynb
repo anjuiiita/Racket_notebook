{
 "cells": [
  {
   "cell_type": "code",
   "execution_count": 12,
   "id": "1364a4d4",
   "metadata": {},
   "outputs": [],
   "source": [
    "import os\n",
    "import math\n",
    "import numpy as np\n",
    "import pandas as pd\n",
    "import matplotlib.pyplot as plt\n",
    "import seaborn as sns"
   ]
  },
  {
   "cell_type": "code",
   "execution_count": 13,
   "id": "8fea2982",
   "metadata": {},
   "outputs": [],
   "source": [
    "\n",
    "df_raw = pd.read_csv('https://raw.githubusercontent.com/JeffSackmann/tennis_MatchChartingProject/master/charting-m-points.csv', encoding = \"ISO-8859-1\", dtype='unicode')\n"
   ]
  },
  {
   "cell_type": "code",
   "execution_count": 14,
   "id": "22f0c1a7",
   "metadata": {},
   "outputs": [],
   "source": [
    "df = df_raw"
   ]
  },
  {
   "cell_type": "code",
   "execution_count": 15,
   "id": "34acc20b",
   "metadata": {},
   "outputs": [],
   "source": [
    "tennis_serve_direction = {'4':'out wide', \n",
    "                   '5':'body',\n",
    "                   '6':'down the T', \n",
    "                   '0':'unknown'\n",
    "                  }\n",
    "tennis_serve_faults = {'n':'net',\n",
    "                'w':'wide',\n",
    "                'd':'deep',\n",
    "                'x':'both wide and deep',\n",
    "                'g':'foot faults',\n",
    "                'e':'unknown',\n",
    "                '!':'shank',\n",
    "                'V':'time violation',\n",
    "                'c':'let',\n",
    "                '+':'serve and volley',\n",
    "                '*':'Ace',\n",
    "                '#':'forced error',\n",
    "                '@':'unforced error'\n",
    "              }\n",
    "tennis_shot_type = {\n",
    "    'f':'forehand groundstroke',\n",
    "    'b':'backhand groundstroke',\n",
    "    'r':'forehand slice',\n",
    "    's':'backhand slice',\n",
    "    'v':'forehand volley',\n",
    "    'z':'backhand volley',\n",
    "    'o':'standard overhead/smash',\n",
    "    'p':'\"backhand\" overhead/smash',\n",
    "    'u':'forehand drop shot',\n",
    "    'y':'backhand drop shot',\n",
    "    'l':'forehand lob',\n",
    "    'm':'backhand lob',\n",
    "    'h':'forehand half-volley',\n",
    "    'i':'backhand half-volley',\n",
    "    'j':'forehand swinging volley',\n",
    "    'k':'backhand swinging volley',\n",
    "    't':'all trick shots, including behind-the-back, between-the-legs, and \"tweeners.\"',\n",
    "    'q':'any unknown shot',\n",
    "    '*':'winner'\n",
    "\n",
    "}\n",
    "tennis_shot_direction = {\n",
    "    '1':'to a right-hander''s forehand side or left-hander''s backhand side',\n",
    "    '2':'down the middle of the court',\n",
    "    '3':'to a right-hander''s backhand side or left-hander''s forehand side',\n",
    "    '0':'unknown'\n",
    "}\n",
    "tennis_shot_depth = {\n",
    "    '7':'within the service boxes',\n",
    "    '8':'behind the service line, but closer to the service line than the baseline',\n",
    "    '9':'closer to the baseline than the service line'\n",
    "}\n",
    "tennis_court_position = {\n",
    "    '^':'Stop volleys/drop volleys',\n",
    "    ';':'hits the net cord',\n",
    "    '-':'shot took place at the net',\n",
    "    '=':'shot took place at the baseline',\n",
    "    '+':'approach'\n",
    "}"
   ]
  },
  {
   "cell_type": "code",
   "execution_count": 16,
   "id": "db54f066",
   "metadata": {},
   "outputs": [
    {
     "name": "stdout",
     "output_type": "stream",
     "text": [
      "573103\n"
     ]
    }
   ],
   "source": [
    "rallyCount = df['rallyCount']\n",
    "first_serve = df['1st']\n",
    "second_serve = df['2nd']\n",
    "isforced = df['isForced']\n",
    "isace = df['isAce']\n",
    "isunforced = df['isUnforced']\n",
    "isdouble = df['isDouble']\n",
    "\n",
    "serve_faults = []\n",
    "serve_direction = []\n",
    "shot_depth = []\n",
    "shot_type = []\n",
    "shot_direction = []\n",
    "court_position = []\n",
    "first_serve_list = []\n",
    "all_serve_pieces = []\n",
    "#print(rallyCount[:10], first_serve[:10], second_serve[:10], isace[:10], isforced[:10], isunforced[:10], isdouble[:10])\n",
    "for serve1, serve2, rally in zip(first_serve, second_serve, rallyCount):\n",
    "  serve = serve1\n",
    "  #print(rally)\n",
    "  if str(rally).isdigit() and len(serve1) < int(rally):\n",
    "    first_serve_list.append(False)\n",
    "    serve = serve2\n",
    "  else:\n",
    "    first_serve_list.append(True)\n",
    "\n",
    "  #rally_seq = []\n",
    "  res = []\n",
    "  serve_faults_list = []\n",
    "  serve_direction_list = []\n",
    "  shot_depth_list = []\n",
    "  shot_type_list = []\n",
    "  shot_direction_list = []\n",
    "  court_position_list = []\n",
    "  serve_pieces = []\n",
    "\n",
    "  index = 0\n",
    "  for i, s in enumerate(serve):\n",
    "    if s.isalpha():\n",
    "        serve_pieces.append(serve[index:i])\n",
    "        index = i\n",
    "  if index + 1 != len(serve):\n",
    "    serve_pieces.append(serve[index:])\n",
    "  #print(serve_pieces)\n",
    "  all_serve_pieces.append(serve_pieces)\n",
    "\n",
    "print(len(all_serve_pieces))\n",
    "df['serve_pieces'] = all_serve_pieces\n",
    "df['first_serve'] = first_serve_list\n",
    "    "
   ]
  },
  {
   "cell_type": "code",
   "execution_count": 17,
   "id": "a86df24e",
   "metadata": {},
   "outputs": [
    {
     "name": "stdout",
     "output_type": "stream",
     "text": [
      "573103\n"
     ]
    }
   ],
   "source": [
    "print(len(df))"
   ]
  },
  {
   "cell_type": "code",
   "execution_count": 18,
   "id": "5c8942c6",
   "metadata": {},
   "outputs": [],
   "source": [
    "df = df.explode('serve_pieces')"
   ]
  },
  {
   "cell_type": "code",
   "execution_count": 19,
   "id": "77f8d452",
   "metadata": {},
   "outputs": [
    {
     "name": "stdout",
     "output_type": "stream",
     "text": [
      "2889978\n"
     ]
    }
   ],
   "source": [
    "print(len(df))"
   ]
  },
  {
   "cell_type": "code",
   "execution_count": 20,
   "id": "54acb9cd",
   "metadata": {},
   "outputs": [],
   "source": [
    "serve_faults = []\n",
    "serve_direction = []\n",
    "shot_depth = []\n",
    "shot_type = []\n",
    "shot_direction = []\n",
    "court_position = []\n",
    "first_serve = []\n",
    "for serve in df['serve_pieces']:\n",
    "  serve_faults_list = ''\n",
    "  serve_direction_list = ''\n",
    "  shot_depth_list = ''\n",
    "  shot_type_list = ''\n",
    "  shot_direction_list = ''\n",
    "  court_position_list = ''\n",
    "\n",
    "  for s in serve:\n",
    "    serve_faults_val = tennis_serve_faults.get(s, None)\n",
    "    serve_direction_val = tennis_serve_direction.get(s, None)\n",
    "    shot_depth_val = tennis_shot_depth.get(s, None)\n",
    "    shot_direction_val = tennis_shot_direction.get(s, None)\n",
    "    court_position_val = tennis_court_position.get(s, None)\n",
    "    shot_type_val = tennis_shot_type.get(s, None)\n",
    "    if serve_faults_val:\n",
    "      serve_faults_list = serve_faults_val\n",
    "    if serve_direction_val:\n",
    "      serve_direction_list = serve_direction_val\n",
    "    if shot_depth_val:\n",
    "      shot_depth_list = shot_depth_val\n",
    "    if shot_direction_val:\n",
    "      shot_direction_list = shot_direction_val\n",
    "    if shot_type_val:\n",
    "      shot_type_list = shot_type_val\n",
    "    if court_position_val:\n",
    "      court_position_list = court_position_val\n",
    "\n",
    "  if serve_faults_list == '':\n",
    "    serve_faults_list = 'Unknown'\n",
    "  if serve_direction_list == '':\n",
    "    serve_direction_list = 'Unknown'\n",
    "  if serve_faults_list == '':\n",
    "    serve_faults_list = 'Unknown'\n",
    "  if shot_depth_list == '':\n",
    "    shot_depth_list = 'Unknown'\n",
    "  if shot_direction_list == '':\n",
    "    shot_direction_list = 'Unknown'\n",
    "  if court_position_list == '':\n",
    "    court_position_list = 'Unknown'\n",
    "  ''' \n",
    "  print(serve_faults_list)\n",
    "  print(serve_direction_list)\n",
    "  print(shot_depth_list)\n",
    "  print(shot_type_list)\n",
    "  print(shot_direction_list)\n",
    "  print(court_position_list)\n",
    "  print('----------------')\n",
    "  '''   \n",
    "  serve_faults.append(serve_faults_list)\n",
    "  serve_direction.append(serve_direction_list)\n",
    "  shot_depth.append(shot_depth_list)\n",
    "  shot_type.append(shot_type_list)\n",
    "  shot_direction.append(shot_direction_list)\n",
    "  court_position.append(court_position_list)\n",
    "\n",
    "df['serve_faults'] = serve_faults\n",
    "df['serve_direction'] = serve_direction\n",
    "df['shot_depth'] = shot_depth\n",
    "df['shot_type'] = shot_type\n",
    "df['shot_direction'] = shot_direction\n",
    "df['court_position'] = court_position\n"
   ]
  },
  {
   "cell_type": "code",
   "execution_count": 21,
   "id": "b4def256",
   "metadata": {},
   "outputs": [
    {
     "name": "stdout",
     "output_type": "stream",
     "text": [
      "match_id           20211121-M-Tour_Finals-F-Daniil_Medvedev-Alexa...\n",
      "Pt                                                                 1\n",
      "Set1                                                               0\n",
      "Set2                                                               0\n",
      "Gm1                                                                0\n",
      "Gm2                                                                0\n",
      "Pts                                                              0-0\n",
      "Gm#                                                            1 (1)\n",
      "TbSet                                                              1\n",
      "TB?                                                                0\n",
      "TBpt                                                             NaN\n",
      "Svr                                                                1\n",
      "Ret                                                                2\n",
      "Serving                                                           DM\n",
      "1st                                                   6b28f2b2b1f1d#\n",
      "2nd                                                              NaN\n",
      "Notes                                                            NaN\n",
      "1stSV                                                              0\n",
      "2ndSV                                                            NaN\n",
      "1stIn                                                              1\n",
      "2ndIn                                                            NaN\n",
      "isAce                                                          FALSE\n",
      "isUnret                                                        FALSE\n",
      "isRallyWinner                                                  FALSE\n",
      "isForced                                                        TRUE\n",
      "isUnforced                                                     FALSE\n",
      "isDouble                                                       FALSE\n",
      "PtWinner                                                           1\n",
      "isSvrWinner                                                        1\n",
      "rallyCount                                                         5\n",
      "serve_pieces                                                     b28\n",
      "first_serve                                                     True\n",
      "serve_faults                                                 Unknown\n",
      "serve_direction                                              Unknown\n",
      "shot_depth         behind the service line, but closer to the ser...\n",
      "shot_type                                      backhand groundstroke\n",
      "shot_direction                          down the middle of the court\n",
      "court_position                                               Unknown\n",
      "Name: 0, dtype: object\n"
     ]
    }
   ],
   "source": [
    "print(df.iloc[1])"
   ]
  },
  {
   "cell_type": "code",
   "execution_count": 23,
   "id": "d6dc3992",
   "metadata": {},
   "outputs": [],
   "source": [
    "del df['1stSV']\n",
    "del df['2ndSV']"
   ]
  },
  {
   "cell_type": "code",
   "execution_count": 25,
   "id": "9cb3c202",
   "metadata": {},
   "outputs": [],
   "source": [
    "df.to_csv('data_features.csv')"
   ]
  },
  {
   "cell_type": "code",
   "execution_count": null,
   "id": "2473e654",
   "metadata": {},
   "outputs": [],
   "source": []
  }
 ],
 "metadata": {
  "kernelspec": {
   "display_name": "Python 3 (ipykernel)",
   "language": "python",
   "name": "python3"
  },
  "language_info": {
   "codemirror_mode": {
    "name": "ipython",
    "version": 3
   },
   "file_extension": ".py",
   "mimetype": "text/x-python",
   "name": "python",
   "nbconvert_exporter": "python",
   "pygments_lexer": "ipython3",
   "version": "3.9.7"
  }
 },
 "nbformat": 4,
 "nbformat_minor": 5
}
