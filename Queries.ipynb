{
 "cells": [
  {
   "cell_type": "code",
   "execution_count": 1,
   "id": "aa76addd",
   "metadata": {},
   "outputs": [],
   "source": [
    "import os\n",
    "import math\n",
    "import numpy as np\n",
    "import pandas as pd"
   ]
  },
  {
   "cell_type": "code",
   "execution_count": 2,
   "id": "73f4cb1b",
   "metadata": {},
   "outputs": [
    {
     "name": "stderr",
     "output_type": "stream",
     "text": [
      "/usr/local/lib/python3.9/site-packages/IPython/core/interactiveshell.py:3457: DtypeWarning: Columns (8,9,29) have mixed types.Specify dtype option on import or set low_memory=False.\n",
      "  exec(code_obj, self.user_global_ns, self.user_ns)\n"
     ]
    }
   ],
   "source": [
    "\n",
    "df = pd.read_csv('https://raw.githubusercontent.com/JeffSackmann/tennis_MatchChartingProject/master/charting-m-points.csv', encoding = \"ISO-8859-1\")\n"
   ]
  },
  {
   "cell_type": "code",
   "execution_count": 3,
   "id": "c6aa9358",
   "metadata": {},
   "outputs": [],
   "source": [
    "serve_direction = {'4':'out wide', \n",
    "                   '5':'body',\n",
    "                   '6':'down the T', \n",
    "                   '0':'unknown'\n",
    "                  }\n",
    "serve_faults = {'n':'net (anything that goes into the net, including net cords that are not lets)',\n",
    "                'w':'wide (in either direction)',\n",
    "                'd':'deep',\n",
    "                'x':'both wide and deep',\n",
    "                'g':'foot faults',\n",
    "                'e':'unknown',\n",
    "                '!':'shank',\n",
    "                'V':'time violation',\n",
    "                'c':'let',\n",
    "                '+':'serve and volley',\n",
    "                '*':'Ace',\n",
    "                '#':'forced error',\n",
    "                '@':'unforced error'\n",
    "              }\n",
    "shot_type = {\n",
    "    'f':'forehand groundstroke (excluding slices, chips, etc.)',\n",
    "    'b':'backhand groundstroke (excluding slices, chips, etc.)',\n",
    "    'r':'forehand slice (including defensive chips, but not drop shots)',\n",
    "    's':'backhand slice (including defensive chips, but not drop shots)',\n",
    "    'v':'forehand volley',\n",
    "    'z':'backhand volley',\n",
    "    'o':'standard overhead/smash',\n",
    "    'p':'\"backhand\" overhead/smash',\n",
    "    'u':'forehand drop shot',\n",
    "    'y':'backhand drop shot',\n",
    "    'l':'forehand lob',\n",
    "    'm':'backhand lob',\n",
    "    'h':'forehand half-volley',\n",
    "    'i':'backhand half-volley',\n",
    "    'j':'forehand swinging volley',\n",
    "    'k':'backhand swinging volley',\n",
    "    't':'all trick shots, including behind-the-back, between-the-legs, and \"tweeners.\"',\n",
    "    'q':'any unknown shot',\n",
    "    '*':'winner'\n",
    "\n",
    "}\n",
    "shot_direction = {\n",
    "    '1':'to a right-hander''s forehand side or left-hander''s backhand side',\n",
    "    '2':'down the middle of the court',\n",
    "    '3':'to a right-hander''s backhand side or left-hander''s forehand side',\n",
    "    '0':'unknown'\n",
    "}\n",
    "shot_depth = {\n",
    "    '7':'within the service boxes',\n",
    "    '8':'behind the service line, but closer to the service line than the baseline',\n",
    "    '9':'closer to the baseline than the service line'\n",
    "}\n",
    "court_position = {\n",
    "    '^':'Stop volleys/drop volleys',\n",
    "    ';':'hits the net cord',\n",
    "    '-':'shot took place at the net',\n",
    "    '=':'shot took place at the baseline',\n",
    "    '+':'approach'\n",
    "}"
   ]
  },
  {
   "cell_type": "code",
   "execution_count": null,
   "id": "f834ee97",
   "metadata": {},
   "outputs": [],
   "source": []
  }
 ],
 "metadata": {
  "kernelspec": {
   "display_name": "Python 3 (ipykernel)",
   "language": "python",
   "name": "python3"
  },
  "language_info": {
   "codemirror_mode": {
    "name": "ipython",
    "version": 3
   },
   "file_extension": ".py",
   "mimetype": "text/x-python",
   "name": "python",
   "nbconvert_exporter": "python",
   "pygments_lexer": "ipython3",
   "version": "3.9.7"
  }
 },
 "nbformat": 4,
 "nbformat_minor": 5
}
